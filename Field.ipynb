{
  "nbformat": 4,
  "nbformat_minor": 0,
  "metadata": {
    "colab": {
      "name": "Field.ipynb",
      "version": "0.3.2",
      "provenance": [],
      "include_colab_link": true
    },
    "kernelspec": {
      "name": "python3",
      "display_name": "Python 3"
    }
  },
  "cells": [
    {
      "cell_type": "markdown",
      "metadata": {
        "id": "view-in-github",
        "colab_type": "text"
      },
      "source": [
        "<a href=\"https://colab.research.google.com/github/alifele/My_Poroject_at_CERN/blob/master/Field.ipynb\" target=\"_parent\"><img src=\"https://colab.research.google.com/assets/colab-badge.svg\" alt=\"Open In Colab\"/></a>"
      ]
    },
    {
      "cell_type": "code",
      "metadata": {
        "id": "gKAVP3yEi3-5",
        "colab_type": "code",
        "colab": {}
      },
      "source": [
        "import numpy as np\n",
        "import matplotlib.pyplot as plt\n",
        "import math as m\n"
      ],
      "execution_count": 0,
      "outputs": []
    },
    {
      "cell_type": "markdown",
      "metadata": {
        "id": "uEogZqDIoqeu",
        "colab_type": "text"
      },
      "source": [
        "Suppose that we have the intensity of field which increases Lineary"
      ]
    },
    {
      "cell_type": "code",
      "metadata": {
        "id": "VrST3FRZj0Yw",
        "colab_type": "code",
        "colab": {}
      },
      "source": [
        "t =  np.linspace(0,6.28,100)\n",
        "field = 1\n",
        "Field =  field*t"
      ],
      "execution_count": 0,
      "outputs": []
    },
    {
      "cell_type": "markdown",
      "metadata": {
        "id": "LDdS29-ur0Ig",
        "colab_type": "text"
      },
      "source": [
        "#Important note\n",
        "Please note that for fields with higher Amplitude we must extend Taylor expansion to higher degrees"
      ]
    },
    {
      "cell_type": "code",
      "metadata": {
        "id": "WoxiNX8aj75v",
        "colab_type": "code",
        "colab": {}
      },
      "source": [
        "Field_coeff =[]"
      ],
      "execution_count": 0,
      "outputs": []
    },
    {
      "cell_type": "code",
      "metadata": {
        "id": "EnJSaQ4jkInH",
        "colab_type": "code",
        "colab": {
          "base_uri": "https://localhost:8080/",
          "height": 34
        },
        "outputId": "a71b002c-bf91-46a3-be20-66ac54c74033"
      },
      "source": [
        "Exp_deg=10    \n",
        "print('The expansion degree is {}'.format(2*Exp_deg+1))\n",
        "for i in range(Exp_deg):\n",
        "  Field_coeff.append((-1)**(i)*(Field**(2*i+1))/m.factorial(2*i+1))"
      ],
      "execution_count": 247,
      "outputs": [
        {
          "output_type": "stream",
          "text": [
            "The expansion degree is 21\n"
          ],
          "name": "stdout"
        }
      ]
    },
    {
      "cell_type": "markdown",
      "metadata": {
        "id": "ITvtqdz1ldj4",
        "colab_type": "text"
      },
      "source": [
        "cof [i] =Field_coeff**(i+1)"
      ]
    },
    {
      "cell_type": "code",
      "metadata": {
        "id": "joGgirWBmbgP",
        "colab_type": "code",
        "colab": {}
      },
      "source": [
        " Sin_Field = sum(Field_coeff)"
      ],
      "execution_count": 0,
      "outputs": []
    },
    {
      "cell_type": "code",
      "metadata": {
        "id": "PK3Ql8JjnGXX",
        "colab_type": "code",
        "colab": {
          "base_uri": "https://localhost:8080/",
          "height": 357
        },
        "outputId": "850ec082-0639-4636-fab4-cec0eefe5c8f"
      },
      "source": [
        "Sin_Field\n",
        "\n"
      ],
      "execution_count": 252,
      "outputs": [
        {
          "output_type": "execute_result",
          "data": {
            "text/plain": [
              "array([ 0.        ,  0.06339181,  0.12652862,  0.18915646,  0.25102341,\n",
              "        0.3118806 ,  0.37148323,  0.42959154,  0.48597179,  0.54039719,\n",
              "        0.5926488 ,  0.64251645,  0.68979953,  0.73430784,  0.77586235,\n",
              "        0.81429591,  0.8494539 ,  0.88119491,  0.90939126,  0.93392951,\n",
              "        0.95471098,  0.97165205,  0.98468459,  0.99375617,  0.9988303 ,\n",
              "        0.99988657,  0.99692072,  0.9899447 ,  0.97898656,  0.96409038,\n",
              "        0.94531608,  0.92273918,  0.89645051,  0.8665558 ,  0.83317531,\n",
              "        0.79644332,  0.75650759,  0.71352875,  0.66767969,  0.61914485,\n",
              "        0.56811946,  0.51480877,  0.45942722,  0.4021976 ,  0.34335012,\n",
              "        0.28312148,  0.22175397,  0.15949444,  0.09659333,  0.03330367,\n",
              "       -0.03011996, -0.09342243, -0.1563491 , -0.21864685, -0.28006507,\n",
              "       -0.34035672, -0.39927926, -0.45659567, -0.5120754 , -0.56549527,\n",
              "       -0.6166404 , -0.66530506, -0.71129348, -0.75442069, -0.7945132 ,\n",
              "       -0.83140974, -0.8649619 , -0.89503471, -0.92150721, -0.94427293,\n",
              "       -0.96324029, -0.97833303, -0.98949044, -0.99666767, -0.99983589,\n",
              "       -0.9989824 , -0.99411067, -0.98524039, -0.97240732, -0.95566319,\n",
              "       -0.93507551, -0.91072726, -0.88271662, -0.85115653, -0.81617429,\n",
              "       -0.77791107, -0.73652129, -0.69217213, -0.6450428 , -0.59532386,\n",
              "       -0.54321656, -0.488932  , -0.43269038, -0.37472017, -0.31525729,\n",
              "       -0.25454423, -0.19282921, -0.13036532, -0.06740965, -0.00422246])"
            ]
          },
          "metadata": {
            "tags": []
          },
          "execution_count": 252
        }
      ]
    },
    {
      "cell_type": "code",
      "metadata": {
        "id": "OQmgGql6nIfH",
        "colab_type": "code",
        "colab": {
          "base_uri": "https://localhost:8080/",
          "height": 286
        },
        "outputId": "a5bb9209-a350-4b51-cd22-0ed417c8fc1a"
      },
      "source": [
        "plt.plot(t,Sin_Field)"
      ],
      "execution_count": 253,
      "outputs": [
        {
          "output_type": "execute_result",
          "data": {
            "text/plain": [
              "[<matplotlib.lines.Line2D at 0x7fdd754ba748>]"
            ]
          },
          "metadata": {
            "tags": []
          },
          "execution_count": 253
        },
        {
          "output_type": "display_data",
          "data": {
            "image/png": "[encoded data removed]",
            "text/plain": [
              "<Figure size 432x288 with 1 Axes>"
            ]
          },
          "metadata": {
            "tags": []
          }
        }
      ]
    },
    {
      "cell_type": "code",
      "metadata": {
        "id": "IVO5wKvQnPxw",
        "colab_type": "code",
        "colab": {}
      },
      "source": [
        ""
      ],
      "execution_count": 0,
      "outputs": []
    }
  ]
}