{
  "nbformat": 4,
  "nbformat_minor": 0,
  "metadata": {
    "colab": {
      "name": "Sine_in_GPT.ipynb",
      "version": "0.3.2",
      "provenance": [],
      "include_colab_link": true
    },
    "kernelspec": {
      "name": "python3",
      "display_name": "Python 3"
    }
  },
  "cells": [
    {
      "cell_type": "markdown",
      "metadata": {
        "id": "view-in-github",
        "colab_type": "text"
      },
      "source": [
        "<a href=\"https://colab.research.google.com/github/alifele/My_Poroject_at_CERN/blob/master/Sine_in_GPT.ipynb\" target=\"_parent\"><img src=\"https://colab.research.google.com/assets/colab-badge.svg\" alt=\"Open In Colab\"/></a>"
      ]
    },
    {
      "cell_type": "code",
      "metadata": {
        "id": "nEH4bNT9S1Uv",
        "colab_type": "code",
        "colab": {}
      },
      "source": [
        "import numpy as np\n",
        "import matplotlib.pyplot as plt\n",
        "import math as m"
      ],
      "execution_count": 0,
      "outputs": []
    },
    {
      "cell_type": "markdown",
      "metadata": {
        "id": "W7yr29TtTG80",
        "colab_type": "text"
      },
      "source": [
        "#The model"
      ]
    },
    {
      "cell_type": "markdown",
      "metadata": {
        "id": "T19ROo4CTLNj",
        "colab_type": "text"
      },
      "source": [
        "##parameters"
      ]
    },
    {
      "cell_type": "code",
      "metadata": {
        "id": "rrcc7qGLTFDc",
        "colab_type": "code",
        "colab": {}
      },
      "source": [
        "tau = 100\n",
        "i = 10         # number of terms.\n",
        "Field = 6.28\n",
        "t = np.arange(0,tau, 1) / tau\n",
        "\n",
        "# the way that the t is in gpt\n",
        "# np.arange(0,1/tau, 1/tau)\n",
        "\n",
        "row = [[] for i in range(i)]"
      ],
      "execution_count": 0,
      "outputs": []
    },
    {
      "cell_type": "code",
      "metadata": {
        "id": "IqEhG5mKTynL",
        "colab_type": "code",
        "colab": {}
      },
      "source": [
        "for k in range(i):\n",
        "  for j in range(tau):\n",
        "    row[k].append(  (j/tau)**(2*k) * (Field)**(2*k+1) / m.factorial(2*k+1) * (-1)**k )\n"
      ],
      "execution_count": 0,
      "outputs": []
    },
    {
      "cell_type": "code",
      "metadata": {
        "id": "JOe6Q4UkE5Nn",
        "colab_type": "code",
        "colab": {
          "base_uri": "https://localhost:8080/",
          "height": 34
        },
        "outputId": "61c1177b-19c9-4d67-fbc1-6a9e65e870e0"
      },
      "source": [
        "len(row[1]), t.shape"
      ],
      "execution_count": 159,
      "outputs": [
        {
          "output_type": "execute_result",
          "data": {
            "text/plain": [
              "(100, (100,))"
            ]
          },
          "metadata": {
            "tags": []
          },
          "execution_count": 159
        }
      ]
    },
    {
      "cell_type": "code",
      "metadata": {
        "id": "2PrUvvCJ9-j5",
        "colab_type": "code",
        "outputId": "3615b7da-00a6-425a-eddd-6161bd7414a6",
        "colab": {
          "base_uri": "https://localhost:8080/",
          "height": 34
        }
      },
      "source": [
        "t.shape , data.shape\n"
      ],
      "execution_count": 160,
      "outputs": [
        {
          "output_type": "execute_result",
          "data": {
            "text/plain": [
              "((100,), (10, 100))"
            ]
          },
          "metadata": {
            "tags": []
          },
          "execution_count": 160
        }
      ]
    },
    {
      "cell_type": "code",
      "metadata": {
        "id": "1K08wT63Vw8u",
        "colab_type": "code",
        "colab": {}
      },
      "source": [
        "data = np.array(row)\n",
        "data = data * t"
      ],
      "execution_count": 0,
      "outputs": []
    },
    {
      "cell_type": "code",
      "metadata": {
        "id": "8LN0engvWeZh",
        "colab_type": "code",
        "outputId": "f02962b5-de65-468c-9d71-ce4a5c5e7d55",
        "colab": {
          "base_uri": "https://localhost:8080/",
          "height": 34
        }
      },
      "source": [
        "data.shape"
      ],
      "execution_count": 162,
      "outputs": [
        {
          "output_type": "execute_result",
          "data": {
            "text/plain": [
              "(10, 100)"
            ]
          },
          "metadata": {
            "tags": []
          },
          "execution_count": 162
        }
      ]
    },
    {
      "cell_type": "code",
      "metadata": {
        "id": "lJGPHVBiW63i",
        "colab_type": "code",
        "colab": {}
      },
      "source": [
        "sin = np.sum(data, axis = 0)"
      ],
      "execution_count": 0,
      "outputs": []
    },
    {
      "cell_type": "code",
      "metadata": {
        "id": "QZQVYYk9WgqR",
        "colab_type": "code",
        "outputId": "56e4ac9f-518d-40f0-f548-98767fe10c83",
        "colab": {
          "base_uri": "https://localhost:8080/",
          "height": 286
        }
      },
      "source": [
        "plt.plot(t*Field, sin)"
      ],
      "execution_count": 164,
      "outputs": [
        {
          "output_type": "execute_result",
          "data": {
            "text/plain": [
              "[<matplotlib.lines.Line2D at 0x7fdf41958208>]"
            ]
          },
          "metadata": {
            "tags": []
          },
          "execution_count": 164
        },
        {
          "output_type": "display_data",
          "data": {
            "image/png": "[encoded data removed]",
            "text/plain": [
              "<Figure size 432x288 with 1 Axes>"
            ]
          },
          "metadata": {
            "tags": []
          }
        }
      ]
    },
    {
      "cell_type": "code",
      "metadata": {
        "id": "0B7DFcJZ5cPK",
        "colab_type": "code",
        "colab": {
          "base_uri": "https://localhost:8080/",
          "height": 34
        },
        "outputId": "b26cb7dd-1fa8-4d5b-f098-e5256e8128d4"
      },
      "source": [
        "aa=np.array([[1,2,3],[4,5,6]])\n",
        "bb = np.array([3,3,3])\n",
        "\n",
        "bb.shape\n"
      ],
      "execution_count": 165,
      "outputs": [
        {
          "output_type": "execute_result",
          "data": {
            "text/plain": [
              "(3,)"
            ]
          },
          "metadata": {
            "tags": []
          },
          "execution_count": 165
        }
      ]
    },
    {
      "cell_type": "code",
      "metadata": {
        "id": "lZtwLPo3-1QJ",
        "colab_type": "code",
        "colab": {}
      },
      "source": [
        ""
      ],
      "execution_count": 0,
      "outputs": []
    }
  ]
}