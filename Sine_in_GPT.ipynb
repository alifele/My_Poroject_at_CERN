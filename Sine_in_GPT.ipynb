{
  "nbformat": 4,
  "nbformat_minor": 0,
  "metadata": {
    "colab": {
      "name": "Sine_in_GPT.ipynb",
      "version": "0.3.2",
      "provenance": [],
      "include_colab_link": true
    },
    "kernelspec": {
      "name": "python3",
      "display_name": "Python 3"
    }
  },
  "cells": [
    {
      "cell_type": "markdown",
      "metadata": {
        "id": "view-in-github",
        "colab_type": "text"
      },
      "source": [
        "<a href=\"https://colab.research.google.com/github/alifele/My_Poroject_at_CERN/blob/master/Sine_in_GPT.ipynb\" target=\"_parent\"><img src=\"https://colab.research.google.com/assets/colab-badge.svg\" alt=\"Open In Colab\"/></a>"
      ]
    },
    {
      "cell_type": "code",
      "metadata": {
        "id": "nEH4bNT9S1Uv",
        "colab_type": "code",
        "colab": {}
      },
      "source": [
        "import numpy as np\n",
        "import matplotlib.pyplot as plt\n",
        "import math as m"
      ],
      "execution_count": 0,
      "outputs": []
    },
    {
      "cell_type": "markdown",
      "metadata": {
        "id": "W7yr29TtTG80",
        "colab_type": "text"
      },
      "source": [
        "#The model"
      ]
    },
    {
      "cell_type": "markdown",
      "metadata": {
        "id": "T19ROo4CTLNj",
        "colab_type": "text"
      },
      "source": [
        "##parameters"
      ]
    },
    {
      "cell_type": "code",
      "metadata": {
        "id": "rrcc7qGLTFDc",
        "colab_type": "code",
        "colab": {}
      },
      "source": [
        "tau = 100\n",
        "i = 4         # number of terms.\n",
        "Field = 1\n",
        "t = np.arange(0,1,0.01)\n",
        "row = [[] for i in range(i)]"
      ],
      "execution_count": 0,
      "outputs": []
    },
    {
      "cell_type": "code",
      "metadata": {
        "id": "IqEhG5mKTynL",
        "colab_type": "code",
        "colab": {}
      },
      "source": [
        "for k in range(i):\n",
        "  for j in range(tau):\n",
        "    row[k].append(  (j/tau)**(2*k) * (Field)**(2*k+1) / m.factorial(2*k+1) * (-1)**k )"
      ],
      "execution_count": 0,
      "outputs": []
    },
    {
      "cell_type": "code",
      "metadata": {
        "id": "vSuHJUneUE0a",
        "colab_type": "code",
        "colab": {}
      },
      "source": [
        "for elem in row:\n",
        "  elem = elem * t"
      ],
      "execution_count": 0,
      "outputs": []
    },
    {
      "cell_type": "code",
      "metadata": {
        "id": "1K08wT63Vw8u",
        "colab_type": "code",
        "colab": {}
      },
      "source": [
        "data = np.array(row)"
      ],
      "execution_count": 0,
      "outputs": []
    },
    {
      "cell_type": "code",
      "metadata": {
        "id": "8LN0engvWeZh",
        "colab_type": "code",
        "colab": {
          "base_uri": "https://localhost:8080/",
          "height": 34
        },
        "outputId": "e4793bc5-cfa7-43f8-8070-a5d71a8a862e"
      },
      "source": [
        "data.shape"
      ],
      "execution_count": 55,
      "outputs": [
        {
          "output_type": "execute_result",
          "data": {
            "text/plain": [
              "(4, 100)"
            ]
          },
          "metadata": {
            "tags": []
          },
          "execution_count": 55
        }
      ]
    },
    {
      "cell_type": "code",
      "metadata": {
        "id": "lJGPHVBiW63i",
        "colab_type": "code",
        "colab": {}
      },
      "source": [
        "sin = np.sum(data, axis = 0)"
      ],
      "execution_count": 0,
      "outputs": []
    },
    {
      "cell_type": "code",
      "metadata": {
        "id": "QZQVYYk9WgqR",
        "colab_type": "code",
        "colab": {
          "base_uri": "https://localhost:8080/",
          "height": 286
        },
        "outputId": "f3934b90-5e8c-4445-aa11-e97cf2fe5921"
      },
      "source": [
        "plt.plot(sin)"
      ],
      "execution_count": 57,
      "outputs": [
        {
          "output_type": "execute_result",
          "data": {
            "text/plain": [
              "[<matplotlib.lines.Line2D at 0x7f5829705940>]"
            ]
          },
          "metadata": {
            "tags": []
          },
          "execution_count": 57
        },
        {
          "output_type": "display_data",
          "data": {
            "image/png": "[encoded data removed]",
            "text/plain": [
              "<Figure size 432x288 with 1 Axes>"
            ]
          },
          "metadata": {
            "tags": []
          }
        }
      ]
    }
  ]
}