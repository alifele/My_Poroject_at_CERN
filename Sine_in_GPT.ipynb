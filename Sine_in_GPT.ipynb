{
  "nbformat": 4,
  "nbformat_minor": 0,
  "metadata": {
    "colab": {
      "name": "Sine_in_GPT.ipynb",
      "version": "0.3.2",
      "provenance": [],
      "include_colab_link": true
    },
    "kernelspec": {
      "name": "python3",
      "display_name": "Python 3"
    }
  },
  "cells": [
    {
      "cell_type": "markdown",
      "metadata": {
        "id": "view-in-github",
        "colab_type": "text"
      },
      "source": [
        "<a href=\"https://colab.research.google.com/github/alifele/My_Poroject_at_CERN/blob/master/Sine_in_GPT.ipynb\" target=\"_parent\"><img src=\"https://colab.research.google.com/assets/colab-badge.svg\" alt=\"Open In Colab\"/></a>"
      ]
    },
    {
      "cell_type": "code",
      "metadata": {
        "id": "nEH4bNT9S1Uv",
        "colab_type": "code",
        "colab": {}
      },
      "source": [
        "import numpy as np\n",
        "import matplotlib.pyplot as plt\n",
        "import math as m"
      ],
      "execution_count": 0,
      "outputs": []
    },
    {
      "cell_type": "markdown",
      "metadata": {
        "id": "W7yr29TtTG80",
        "colab_type": "text"
      },
      "source": [
        "#The model"
      ]
    },
    {
      "cell_type": "markdown",
      "metadata": {
        "id": "T19ROo4CTLNj",
        "colab_type": "text"
      },
      "source": [
        "##parameters"
      ]
    },
    {
      "cell_type": "code",
      "metadata": {
        "id": "rrcc7qGLTFDc",
        "colab_type": "code",
        "colab": {}
      },
      "source": [
        "tau = 5\n",
        "i = 7         # number of terms.\n",
        "Field = 1\n",
        "t = np.arange(0,1,1/tau)\n",
        "row = [[] for i in range(i)]"
      ],
      "execution_count": 0,
      "outputs": []
    },
    {
      "cell_type": "code",
      "metadata": {
        "id": "IqEhG5mKTynL",
        "colab_type": "code",
        "colab": {}
      },
      "source": [
        "for k in range(i):\n",
        "  for j in range(tau):\n",
        "    row[k].append(  (j/tau)**(2*k) * (Field)**(2*k+1) / m.factorial(2*k+1) * (-1)**k )"
      ],
      "execution_count": 0,
      "outputs": []
    },
    {
      "cell_type": "code",
      "metadata": {
        "id": "S2XMIEdB45gr",
        "colab_type": "code",
        "colab": {
          "base_uri": "https://localhost:8080/",
          "height": 544
        },
        "outputId": "38492822-5e21-4afe-e818-3d73842b84f0"
      },
      "source": [
        "row"
      ],
      "execution_count": 54,
      "outputs": [
        {
          "output_type": "execute_result",
          "data": {
            "text/plain": [
              "[[1.0, 1.0, 1.0, 1.0, 1.0],\n",
              " [-0.0,\n",
              "  -0.006666666666666668,\n",
              "  -0.026666666666666672,\n",
              "  -0.06,\n",
              "  -0.10666666666666669],\n",
              " [0.0,\n",
              "  1.3333333333333335e-05,\n",
              "  0.00021333333333333336,\n",
              "  0.00108,\n",
              "  0.0034133333333333338],\n",
              " [-0.0,\n",
              "  -1.2698412698412703e-08,\n",
              "  -8.12698412698413e-07,\n",
              "  -9.257142857142854e-06,\n",
              "  -5.201269841269843e-05],\n",
              " [0.0,\n",
              "  7.0546737213403914e-12,\n",
              "  1.8059964726631402e-09,\n",
              "  4.628571428571427e-08,\n",
              "  4.623350970017639e-07],\n",
              " [-0.0,\n",
              "  -2.5653358986692334e-15,\n",
              "  -2.626903960237295e-12,\n",
              "  -1.5148051948051943e-10,\n",
              "  -2.68994965528299e-09],\n",
              " [0.0,\n",
              "  6.577784355562137e-19,\n",
              "  2.6942604720382513e-15,\n",
              "  3.495704295704294e-13,\n",
              "  1.1035690893468678e-11]]"
            ]
          },
          "metadata": {
            "tags": []
          },
          "execution_count": 54
        }
      ]
    },
    {
      "cell_type": "code",
      "metadata": {
        "id": "1K08wT63Vw8u",
        "colab_type": "code",
        "colab": {}
      },
      "source": [
        "data = np.array(row)"
      ],
      "execution_count": 0,
      "outputs": []
    },
    {
      "cell_type": "code",
      "metadata": {
        "id": "8LN0engvWeZh",
        "colab_type": "code",
        "outputId": "5c687820-3025-4e0b-8ca5-234764cc7ed5",
        "colab": {
          "base_uri": "https://localhost:8080/",
          "height": 34
        }
      },
      "source": [
        "data.shape"
      ],
      "execution_count": 51,
      "outputs": [
        {
          "output_type": "execute_result",
          "data": {
            "text/plain": [
              "(7, 5)"
            ]
          },
          "metadata": {
            "tags": []
          },
          "execution_count": 51
        }
      ]
    },
    {
      "cell_type": "code",
      "metadata": {
        "id": "lJGPHVBiW63i",
        "colab_type": "code",
        "colab": {}
      },
      "source": [
        "sin = np.sum(data, axis = 0)"
      ],
      "execution_count": 0,
      "outputs": []
    },
    {
      "cell_type": "code",
      "metadata": {
        "id": "QZQVYYk9WgqR",
        "colab_type": "code",
        "outputId": "894a3887-1c6a-4927-d65f-199fb01bece8",
        "colab": {
          "base_uri": "https://localhost:8080/",
          "height": 286
        }
      },
      "source": [
        "plt.plot(sin)"
      ],
      "execution_count": 53,
      "outputs": [
        {
          "output_type": "execute_result",
          "data": {
            "text/plain": [
              "[<matplotlib.lines.Line2D at 0x7f5fe0b3ac88>]"
            ]
          },
          "metadata": {
            "tags": []
          },
          "execution_count": 53
        },
        {
          "output_type": "display_data",
          "data": {
            "image/png": "[encoded data removed]",
            "text/plain": [
              "<Figure size 432x288 with 1 Axes>"
            ]
          },
          "metadata": {
            "tags": []
          }
        }
      ]
    }
  ]
}